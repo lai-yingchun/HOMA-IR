{
 "cells": [
  {
   "cell_type": "code",
   "execution_count": 13,
   "id": "fcb2ca8d",
   "metadata": {},
   "outputs": [],
   "source": [
    "import numpy as np\n",
    "import pandas as pd\n",
    "from sklearn.preprocessing import StandardScaler, OneHotEncoder\n",
    "from sklearn.pipeline import make_pipeline\n",
    "from sklearn.model_selection import train_test_split\n",
    "pd.set_option('display.max_rows', None)\n",
    "data = pd.read_csv('Data_SEM_clear_v1.csv')\n",
    "df=pd.DataFrame(data)\n",
    "feature_names = df.keys()\n",
    "all_feature_names= list(feature_names[2::])\n",
    "num_feature_names = feature_names[5::]\n",
    "\n",
    "\n",
    "x_num = df.iloc[:,5::]\n",
    "standardScaler = StandardScaler()\n",
    "x_num = pd.DataFrame(standardScaler.fit_transform(x_num),columns=num_feature_names)\n",
    "x_cat = pd.DataFrame(df.iloc[:,2:5])\n",
    "df_x = pd.concat([x_cat,x_num], axis=1)\n",
    "df_x_orig = df_x.copy()\n",
    "all_feature_names_orig = all_feature_names.copy()\n",
    "\n"
   ]
  },
  {
   "cell_type": "code",
   "execution_count": 14,
   "id": "0f3af7f3",
   "metadata": {},
   "outputs": [
    {
     "name": "stdout",
     "output_type": "stream",
     "text": [
      "    0   1\n",
      "0  23  19\n",
      "1  10  34\n",
      "              precision    recall  f1-score   support\n",
      "\n",
      "           0       0.70      0.55      0.61        42\n",
      "           1       0.64      0.77      0.70        44\n",
      "\n",
      "    accuracy                           0.66        86\n",
      "   macro avg       0.67      0.66      0.66        86\n",
      "weighted avg       0.67      0.66      0.66        86\n",
      "\n",
      "特徵: BUN\n",
      "正確率: 0.6627907\n"
     ]
    }
   ],
   "source": [
    "from sklearn.metrics import precision_score,recall_score,roc_auc_score\n",
    "from sklearn.ensemble import RandomForestClassifier\n",
    "from sklearn.metrics import confusion_matrix, accuracy_score, classification_report, precision_recall_curve\n",
    "\n",
    "y =  df['HOMA_IR']\n",
    "model = RandomForestClassifier()\n",
    "highest = 0\n",
    "highest_index = 0\n",
    "highest_y_test = 0\n",
    "highest_y_pred = 0\n",
    "for i in range(len(all_feature_names)):\n",
    "    x = pd.DataFrame(df_x.iloc[:,i])\n",
    "    # print(x.iloc[i].index)\n",
    "    x_train, x_test, y_train, y_test = train_test_split(x,y, test_size=0.2,random_state=30)\n",
    "    model.fit(x_train, y_train)\n",
    "    y_pred = model.predict(x_test)\n",
    "    test_acc = accuracy_score(y_test, y_pred).round(7)\n",
    "    if test_acc > highest:\n",
    "        highest = test_acc\n",
    "        highest_index = i\n",
    "        highest_y_test = y_test\n",
    "        highest_y_pred = y_pred\n",
    "\n",
    "cm = confusion_matrix(highest_y_test, highest_y_pred)\n",
    "print(pd.DataFrame(cm))\n",
    "print(classification_report(highest_y_test, highest_y_pred))\n",
    "print('特徵:',all_feature_names[highest_index])\n",
    "print('正確率:', highest)        \n",
    "\n",
    "\n"
   ]
  },
  {
   "cell_type": "code",
   "execution_count": 15,
   "id": "39efe046",
   "metadata": {},
   "outputs": [
    {
     "name": "stdout",
     "output_type": "stream",
     "text": [
      "    0   1\n",
      "0  23  19\n",
      "1   8  36\n",
      "              precision    recall  f1-score   support\n",
      "\n",
      "           0       0.74      0.55      0.63        42\n",
      "           1       0.65      0.82      0.73        44\n",
      "\n",
      "    accuracy                           0.69        86\n",
      "   macro avg       0.70      0.68      0.68        86\n",
      "weighted avg       0.70      0.69      0.68        86\n",
      "\n",
      "特徵: BMI\n",
      "正確率: 0.6860465\n"
     ]
    }
   ],
   "source": [
    "df_x = df_x.drop(columns = all_feature_names[highest_index])\n",
    "all_feature_names.pop(highest_index)\n",
    "second = 0\n",
    "second_index = 0\n",
    "second_y_test = 0\n",
    "second_y_pred = 0\n",
    "old_feature = df_x_orig.iloc[:,highest_index]\n",
    "for i in range(len(all_feature_names)):\n",
    "    new_feature = df_x.iloc[:,i]\n",
    "    x = pd.concat([old_feature,new_feature], axis=1)\n",
    "    x_train, x_test, y_train, y_test = train_test_split(x,y, test_size=0.2,random_state=30)\n",
    "    model.fit(x_train, y_train)\n",
    "    y_pred = model.predict(x_test)\n",
    "    test_acc = accuracy_score(y_test, y_pred).round(7)\n",
    "    if test_acc > second:\n",
    "        second = test_acc\n",
    "        second_index = i\n",
    "        second_y_test = y_test\n",
    "        second_y_pred = y_pred\n",
    "\n",
    "cm = confusion_matrix(second_y_test, second_y_pred)\n",
    "print(pd.DataFrame(cm))\n",
    "print(classification_report(second_y_test, second_y_pred))\n",
    "print('特徵:',all_feature_names[second_index])\n",
    "print('正確率:', second)   \n"
   ]
  }
 ],
 "metadata": {
  "kernelspec": {
   "display_name": "Python 3 (ipykernel)",
   "language": "python",
   "name": "python3"
  },
  "language_info": {
   "codemirror_mode": {
    "name": "ipython",
    "version": 3
   },
   "file_extension": ".py",
   "mimetype": "text/x-python",
   "name": "python",
   "nbconvert_exporter": "python",
   "pygments_lexer": "ipython3",
   "version": "3.9.13"
  }
 },
 "nbformat": 4,
 "nbformat_minor": 5
}
